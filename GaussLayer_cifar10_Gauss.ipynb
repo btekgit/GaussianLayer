{
  "nbformat": 4,
  "nbformat_minor": 0,
  "metadata": {
    "colab": {
      "name": "GaussLayer-cifar10-Gauss.ipynb",
      "version": "0.3.2",
      "provenance": [],
      "collapsed_sections": [],
      "include_colab_link": true
    },
    "kernelspec": {
      "name": "python3",
      "display_name": "Python 3"
    },
    "accelerator": "GPU"
  },
  "cells": [
    {
      "cell_type": "markdown",
      "metadata": {
        "id": "view-in-github",
        "colab_type": "text"
      },
      "source": [
        "<a href=\"https://colab.research.google.com/github/btekgit/GaussianLayer/blob/master/GaussLayer_cifar10_Gauss.ipynb\" target=\"_parent\"><img src=\"https://colab.research.google.com/assets/colab-badge.svg\" alt=\"Open In Colab\"/></a>"
      ]
    },
    {
      "cell_type": "code",
      "metadata": {
        "id": "HLV2ztzfHsl3",
        "colab_type": "code",
        "outputId": "90f83ed8-4e79-4427-b2e6-e8cfaedfeb0f",
        "colab": {
          "base_uri": "https://localhost:8080/",
          "height": 34
        }
      },
      "source": [
        "# CODE for Gaussian Layer\n",
        "!pwd"
      ],
      "execution_count": 0,
      "outputs": [
        {
          "output_type": "stream",
          "text": [
            "/content\n"
          ],
          "name": "stdout"
        }
      ]
    },
    {
      "cell_type": "code",
      "metadata": {
        "id": "vXCGJ9NPH1NK",
        "colab_type": "code",
        "outputId": "0461a5e8-bc2a-4bc5-b557-ee3dd8f7a8ba",
        "colab": {
          "base_uri": "https://localhost:8080/",
          "height": 34
        }
      },
      "source": [
        "#!/usr/bin/env python3\n",
        "# -*- coding: utf-8 -*-\n",
        "\"\"\"\n",
        "Created on Tue Feb 13 19:07:34 2018\n",
        "LAst update Jun 17 2019\n",
        "\n",
        "@author: btek\n",
        "\"\"\"\n",
        "from keras import backend as K\n",
        "from keras.engine.topology import Layer\n",
        "from keras.utils import conv_utils\n",
        "from keras import activations, regularizers, constraints\n",
        "from keras import initializers\n",
        "from keras.engine import InputSpec\n",
        "import numpy as np\n",
        "import tensorflow as tf\n",
        "from numpy.random import seed\n",
        "seed(42)\n",
        "from tensorflow import set_random_seed\n",
        "set_random_seed(42)"
      ],
      "execution_count": 0,
      "outputs": [
        {
          "output_type": "stream",
          "text": [
            "Using TensorFlow backend.\n"
          ],
          "name": "stderr"
        }
      ]
    },
    {
      "cell_type": "code",
      "metadata": {
        "id": "aU5r1jH0H5af",
        "colab_type": "code",
        "colab": {}
      },
      "source": [
        "def idx_init(shape, dtype='float32'):\n",
        "    idxs = np.zeros((shape[0], shape[1]),dtype)\n",
        "    c = 0\n",
        "    # assumes square filters\n",
        "    \n",
        "    wid = np.int(np.sqrt(shape[0]))\n",
        "    hei =np.int(np.sqrt(shape[0]))\n",
        "    f = np.float32\n",
        "    for x in np.arange(wid):  # / (self.incoming_width * 1.0):\n",
        "        for y in np.arange(hei):  # / (self.incoming_height * 1.0):\n",
        "            idxs[c, :] = np.array([x/f(wid-1), y/f(hei-1)],dtype)\n",
        "            c += 1\n",
        "\n",
        "    return idxs\n",
        "\n",
        "def cov_init(shape, dtype='float32'):\n",
        "    \n",
        "    cov = np.identity(shape[1], dtype)\n",
        "    # shape [0] must have self.incoming_channels * self.num_filters\n",
        "    cov = np.repeat(cov[np.newaxis], shape[0], axis=0)\n",
        "    \n",
        "    #for t in range(shape[0]):\n",
        "    #    cov[t] = cov[t]\n",
        "    return cov\n",
        "\n",
        "def scale_init(shape, dtype='float32'):\n",
        "    #sc = np.linspace(0.5, 1.6, shape[0]) #best for mnist cluttered\n",
        "    #sc = np.linspace(0.05, 0.1, shape[0],dtype=dtype) #best for mnist cluttered\n",
        "    #sc = 0.05*np.ones(shape[0],dtype=dtype) #best for mnist cluttered\n",
        "    sc = np.linspace(0.05, 0.1, shape[0],dtype=dtype)#tried on fashion mnist with no difference\n",
        "    #sc=np.expand_dims(sc, axis=1)\n",
        "    #sc=np.expand_dims(sc, axis=2)\n",
        "    #print(sc)\n",
        "    return sc"
      ],
      "execution_count": 0,
      "outputs": []
    },
    {
      "cell_type": "code",
      "metadata": {
        "id": "TsUuLKvKH8V-",
        "colab_type": "code",
        "colab": {}
      },
      "source": [
        "class GaussScaler(Layer):\n",
        "    def __init__(self, rank, filters,\n",
        "                 kernel_size,\n",
        "                 strides=1,\n",
        "                 padding='valid',\n",
        "                 data_format=None,\n",
        "                 dilation_rate=1,\n",
        "                 activation=None,\n",
        "                 use_bias=False,\n",
        "                 kernel_regularizer=None,\n",
        "                 gain=1.0,\n",
        "                 output_padding=None,\n",
        "                 **kwargs):\n",
        "        super(GaussScaler, self).__init__(**kwargs)\n",
        "        #def __init__(self, num_filters, kernel_size, incoming_channels=1, **kwargs):\n",
        "        self.rank = rank\n",
        "        self.filters = filters\n",
        "        self.kernel_size = conv_utils.normalize_tuple(kernel_size, rank, 'kernel_size')\n",
        "        self.strides = conv_utils.normalize_tuple(strides, rank, 'strides')\n",
        "        self.padding = conv_utils.normalize_padding(padding)\n",
        "        self.data_format = data_format\n",
        "        self.dilation_rate = conv_utils.normalize_tuple(dilation_rate, rank, 'dilation_rate')\n",
        "        self.activation = activations.get(activation)\n",
        "        self.use_bias = use_bias\n",
        "        self.kernel_regularizer = regularizers.get(kernel_regularizer)\n",
        "        self.input_spec = InputSpec(ndim=self.rank + 2)\n",
        "        self.gain = gain\n",
        "                 \n",
        "        #self.input_shape = input_shape\n",
        "        if 'input_shape' not in kwargs and 'input_dim' in kwargs:\n",
        "            kwargs['input_shape'] = (kwargs.pop('input_dim'))\n",
        "        print(kwargs)\n",
        "        self.kernel_size = kernel_size\n",
        "        \n",
        "        self.num_filters = filters\n",
        "        #self.incoming_channels = incoming_channels\n",
        "        \n",
        "        \n",
        "        self.output_padding = output_padding\n",
        "        if self.output_padding is not None:\n",
        "            self.output_padding = conv_utils.normalize_tuple(\n",
        "                self.output_padding, 2, 'output_padding')\n",
        "            for stride, out_pad in zip(self.strides, self.output_padding):\n",
        "                if out_pad >= stride:\n",
        "                    raise ValueError('Stride ' + str(self.strides) + ' must be '\n",
        "                                     'greater than output padding ' +str(self.output_padding))\n",
        "                    \n",
        "        super(GaussScaler, self).__init__(**kwargs)\n",
        "\n",
        "    def build(self, input_shape):\n",
        "        if self.data_format == 'channels_first':\n",
        "            channel_axis = 1\n",
        "        else:\n",
        "            channel_axis = -1\n",
        "        if input_shape[channel_axis] is None:\n",
        "            raise ValueError('The channel dimension of the inputs '\n",
        "                             'should be defined. Found `None`.')\n",
        "        input_dim = input_shape[channel_axis]\n",
        "        \n",
        "        self.input_channels = input_dim\n",
        "        kernel_shape = self.kernel_size + (input_dim, self.filters)\n",
        "        print(\"kernel shape:\",kernel_shape)\n",
        "\n",
        "        self.bias = None\n",
        "        # Set input spec.\n",
        "        self.input_spec = InputSpec(ndim=self.rank + 2,\n",
        "                                    axes={channel_axis: input_dim})\n",
        "        self.built = True\n",
        "        # Create a trainable weight variable for this layer.\n",
        "        \n",
        "        kernel_size = self.kernel_size\n",
        "        # Idxs Init\n",
        "        \n",
        "        \n",
        "        \n",
        "        \n",
        "        #mu = np.array([kernel_size[0] // 2, kernel_size[1] // 2])\n",
        "        mu = np.array([0.5, 0.5])\n",
        "\n",
        "\n",
        "        # Convert Types\n",
        "        self.mu = mu.astype(dtype='float32')\n",
        "\n",
        "        # Shared Parameters\n",
        "        # below works for only two dimensional cov \n",
        "        #self.cov = self.add_weight(shape=[input_dim*self.filters,2,2], \n",
        "        #                          name=\"cov\", initializer=cov_init, trainable=False)\n",
        "        \n",
        "        \n",
        "        self.cov_scaler = self.add_weight(shape=(self.filters,),\n",
        "                                          name='scaler',initializer=scale_init,\n",
        "                                          trainable=True,\n",
        "                                          constraint= constraints.NonNeg())\n",
        "                                  #constraint=constraints.non_neg())\n",
        "        \n",
        "        #print(\"Self.cov:\",self.cov)\n",
        "        #print(\"Self cov-scaler\",self.cov_scaler)\n",
        "        \n",
        "        # below prepares a meshgrid. \n",
        "        #self.idxs = self.add_weight(shape=[kernel_size[0]*kernel_size[1],2], \n",
        "        #                           name=\"idxs\", initializer=idx_init, trainable=False)\n",
        "        \n",
        "        self.idxs= idx_init(shape=[kernel_size[0]*kernel_size[1],2])\n",
        "        \n",
        "        super(GaussScaler, self).build(input_shape)  # Be sure to call this somewhere!\n",
        "        \n",
        "    \n",
        "    def U(self):\n",
        "  \n",
        "        e1 = (self.idxs - self.mu)\n",
        "        #print(\"e1.shape\",e1.shape)\n",
        "        #print(\"cov scaler shape\",self.cov_scaler)\n",
        "   \n",
        "        #print(self.cov.shape)\n",
        "        #print(len(tf.unstack(self.cov,axis=0)))\n",
        "        #print( tf.linalg.inv(tf.unstack(self.cov,axis=0)[0]))\n",
        "        # tensorflow does not need scan it does the same op to all covs.\n",
        "        #cov_inv = self.cov\n",
        "        #cov_scaled =self.cov_scaler*self.cov\n",
        "#        cov_scaled = tf.scalar_mul(self.cov_scaler,self.cov)\n",
        "#        print(self.cov.shape, self.cov_scaler.shape )\n",
        "#        cov_scaled = K.batch_dot(self.cov_scaler,self.cov, axes=[1,2])\n",
        "        #cov_inv = tf.linalg.inv(cov_scaled)\n",
        "        #print(\"cov_scaled :\",cov_scaled.shape)\n",
        "        #cov_inv = K.map_fn(lambda x: tf.linalg.inv(x), elems=tf.unstack(self.cov,axis=0))\n",
        "       \n",
        "\n",
        "        #e2 = K.dot(e1, K.transpose(cov_inv))\n",
        "        #ex = K.batch_dot(e2, e1, axes=[[1], [1]])\n",
        "        #result = K.exp(-(1 / 2.0) * ex)\n",
        "\n",
        "        up= K.sum((self.idxs - self.mu)**2, axis=1)\n",
        "        #print(\"up.shape\",up.shape)\n",
        "        up = K.expand_dims(up,axis=1,)\n",
        "        #print(\"up.shape\",up.shape)\n",
        "        # clipping scaler in range to prevent div by 0 or negative cov. \n",
        "        cov_scaler = K.clip(self.cov_scaler,0.01,5)\n",
        "        #cov_scaler = self.cov_scaler\n",
        "        dwn = 2 * (cov_scaler ** 2)\n",
        "        #scaler = (np.pi*self.cov_scaler**2) * (self.idxs.shape[0])\n",
        "        result = K.exp(-up / dwn)\n",
        "        \n",
        "\n",
        "\n",
        "        # Transpose is super important.\n",
        "        #filter: A 4-D `Tensor` with the same type as `value` and shape\n",
        "        #`[height, width, output_channels, in_channels]`\n",
        "        # we do not care about input channels\n",
        "        \n",
        "        masks = K.reshape(result,(self.kernel_size[0],\n",
        "                                  self.kernel_size[1],\n",
        "                                  self.filters,1))   \n",
        "            \n",
        "        #sum normalization each filter has sum 1\n",
        "        #sums = K.sum(masks**2, axis=(0, 1), keepdims=True)\n",
        "        #print(sums)\n",
        "        #gain = K.constant(self.gain, dtype='float32')\n",
        "        masks /= K.sqrt(K.sum(K.square(masks), axis=(0, 1),keepdims=True))\n",
        "        #masks /= K.sum(masks, axis=(0, 1),keepdims=True)\n",
        "        #masks /= (self.kernel_size[0]*self.kernel_size[1])\n",
        "        \n",
        "        #masks *= (gain*np.sqrt(self.kernel_size[0]*self.kernel_size[1]))\n",
        "        #ums = sums * sums\n",
        "        #print(\"sums shape: \", sums.shape)\n",
        "        \n",
        "        # Sum normalisation\n",
        "        \n",
        "        #masks = masks * (gain/K.sqrt(sums))\n",
        "        #masks = masks * (gain/sums)\n",
        "        #print(\"masks shape\", masks.shape)\n",
        "        #print(\"masks mask\", K.mean(masks))\n",
        "        return masks\n",
        "\n",
        "\n",
        "\n",
        "    def call(self, inputs):\n",
        "        input_shape = K.shape(inputs)\n",
        "        batch_size = input_shape[0]\n",
        "        if self.data_format == 'channels_first':\n",
        "          h_axis, w_axis = 2, 3\n",
        "          c_axis= 1\n",
        "          \n",
        "        else:\n",
        "            h_axis, w_axis = 1, 2\n",
        "            c_axis=3\n",
        "            \n",
        "        ##BTEK \n",
        "        kernel = self.U()\n",
        "        in_channels =input_shape[c_axis]\n",
        "        \n",
        "        height, width = input_shape[h_axis], input_shape[w_axis]\n",
        "        kernel_h, kernel_w = self.kernel_size\n",
        "        stride_h, stride_w = self.strides\n",
        "        if self.output_padding is None:\n",
        "            out_pad_h = out_pad_w = None\n",
        "        else:\n",
        "            out_pad_h, out_pad_w = self.output_padding\n",
        "\n",
        "        # Infer the dynamic output shape:\n",
        "        out_height = conv_utils.deconv_length(height,\n",
        "                                              stride_h, kernel_h,\n",
        "                                              self.padding,\n",
        "                                              out_pad_h,\n",
        "                                              self.dilation_rate[0])\n",
        "        out_width = conv_utils.deconv_length(width,\n",
        "                                             stride_w, kernel_w,\n",
        "                                             self.padding,\n",
        "                                             out_pad_w,\n",
        "                                             self.dilation_rate[1])\n",
        "        if self.data_format == 'channels_first':\n",
        "            output_shape = (batch_size, self.filters, out_height, out_width)\n",
        "        else:\n",
        "            output_shape = (batch_size, out_height, out_width, self.filters)\n",
        "\n",
        "        ##BTEK \n",
        "        kernel = self.U()\n",
        "        print(\"kernel shape in output:\",kernel.shape)\n",
        "        print(\"channel axis\")\n",
        "        kernel = K.repeat_elements(kernel, self.input_channels, axis=c_axis)\n",
        "        print(\"kernel reshaped :\",kernel.shape)\n",
        "        #---------------------------------------------------------------------\n",
        "        outputs = K.conv2d_transpose(\n",
        "            inputs,\n",
        "            kernel,\n",
        "            output_shape,\n",
        "            self.strides,\n",
        "            padding=self.padding,\n",
        "            data_format=self.data_format,\n",
        "            dilation_rate=self.dilation_rate)\n",
        "\n",
        "        if self.use_bias:\n",
        "            outputs = K.bias_add(\n",
        "                outputs,\n",
        "                self.bias,\n",
        "                data_format=self.data_format)\n",
        "\n",
        "        if self.activation is not None:\n",
        "            return self.activation(outputs)\n",
        "        return outputs\n",
        "\n",
        "\n",
        "        \n",
        "    def compute_output_shape(self, input_shape):\n",
        "        output_shape = list(input_shape)\n",
        "        if self.data_format == 'channels_first':\n",
        "            c_axis, h_axis, w_axis = 1, 2, 3\n",
        "        else:\n",
        "            c_axis, h_axis, w_axis = 3, 1, 2\n",
        "\n",
        "        kernel_h, kernel_w = self.kernel_size\n",
        "        stride_h, stride_w = self.strides\n",
        "        if self.output_padding is None:\n",
        "            out_pad_h = out_pad_w = None\n",
        "        else:\n",
        "            out_pad_h, out_pad_w = self.output_padding\n",
        "\n",
        "        output_shape[c_axis] = self.filters\n",
        "        output_shape[h_axis] = conv_utils.deconv_length(output_shape[h_axis],\n",
        "                                                        stride_h,\n",
        "                                                        kernel_h,\n",
        "                                                        self.padding,\n",
        "                                                        out_pad_h,\n",
        "                                                        self.dilation_rate[0])\n",
        "        output_shape[w_axis] = conv_utils.deconv_length(output_shape[w_axis],\n",
        "                                                        stride_w,\n",
        "                                                        kernel_w,\n",
        "                                                        self.padding,\n",
        "                                                        out_pad_w,\n",
        "                                                        self.dilation_rate[1])\n",
        "        return tuple(output_shape)\n"
      ],
      "execution_count": 0,
      "outputs": []
    },
    {
      "cell_type": "code",
      "metadata": {
        "id": "LfRXsUkkIDKk",
        "colab_type": "code",
        "colab": {}
      },
      "source": [
        "import keras\n",
        "from keras.datasets import cifar10\n",
        "from keras.preprocessing.image import ImageDataGenerator\n",
        "from keras.models import Sequential,Model\n",
        "from keras.layers import Dense, Dropout, Activation, Flatten, Input,Lambda, Concatenate\n",
        "from keras.layers import Conv2D, MaxPooling2D, BatchNormalization\n",
        "from keras.optimizers import SGD\n",
        "\n",
        "import os"
      ],
      "execution_count": 0,
      "outputs": []
    },
    {
      "cell_type": "code",
      "metadata": {
        "id": "Z4K8pEZzIXOk",
        "colab_type": "code",
        "colab": {}
      },
      "source": [
        " # LOAD DATA\n",
        "\n",
        "batch_size = 128\n",
        "num_classes = 10\n",
        "epochs = 100\n",
        "data_augmentation = True\n",
        "num_predictions = 20\n",
        "save_dir = os.path.join(os.getcwd(), 'saved_models')\n",
        "model_name = 'keras_cifar10_trained_model.h5'  "
      ],
      "execution_count": 0,
      "outputs": []
    },
    {
      "cell_type": "code",
      "metadata": {
        "id": "hDSdnMlILOk8",
        "colab_type": "code",
        "outputId": "8fd4f83c-68e4-40fb-ff93-6999e142587d",
        "colab": {
          "base_uri": "https://localhost:8080/",
          "height": 69
        }
      },
      "source": [
        "num_classes = 10\n",
        "\n",
        "# input image dimensions\n",
        "img_rows, img_cols = 32, 32\n",
        "\n",
        "# The data, split between train and test sets:\n",
        "(x_train, y_train), (x_test, y_test) = cifar10.load_data()\n",
        "print('x_train shape:', x_train.shape)\n",
        "print(x_train.shape[0], 'train samples')\n",
        "print(x_test.shape[0], 'test samples')\n",
        "\n",
        "if K.image_data_format() == 'channels_first':\n",
        "    x_train = x_train.reshape(x_train.shape[0], 3, img_rows, img_cols)\n",
        "    x_test = x_test.reshape(x_test.shape[0], 3, img_rows, img_cols)\n",
        "    input_shape = (1, img_rows, img_cols)\n",
        "else:\n",
        "    x_train = x_train.reshape(x_train.shape[0], img_rows, img_cols, 3)\n",
        "    x_test = x_test.reshape(x_test.shape[0], img_rows, img_cols, 3)\n",
        "    input_shape = (img_rows, img_cols, 3)\n",
        "\n",
        "x_train = x_train.astype('float32')\n",
        "x_test = x_test.astype('float32')\n",
        "x_train /= 255\n",
        "x_test /= 255\n",
        "\n",
        "# convert class vectors to binary class matrices\n",
        "y_train = keras.utils.to_categorical(y_train, num_classes)\n",
        "y_test = keras.utils.to_categorical(y_test, num_classes)"
      ],
      "execution_count": 0,
      "outputs": [
        {
          "output_type": "stream",
          "text": [
            "x_train shape: (50000, 32, 32, 3)\n",
            "50000 train samples\n",
            "10000 test samples\n"
          ],
          "name": "stdout"
        }
      ]
    },
    {
      "cell_type": "markdown",
      "metadata": {
        "id": "t4BQMgF7LVHV",
        "colab_type": "text"
      },
      "source": [
        "CREATE THE MODEL"
      ]
    },
    {
      "cell_type": "code",
      "metadata": {
        "id": "nBxSz02zLPAd",
        "colab_type": "code",
        "outputId": "0658b3c8-9071-4b96-ca01-234b4c3aca37",
        "colab": {
          "base_uri": "https://localhost:8080/",
          "height": 1635
        }
      },
      "source": [
        "# CREATE THE MODEL\n",
        "nGauss = 4\n",
        "n_input_channels=3\n",
        "node_in  = Input(shape=input_shape)\n",
        "if nGauss>0:\n",
        "    if n_input_channels==3:\n",
        "        pool_channels=[]\n",
        "        for i in range(n_input_channels):\n",
        "            # separate channels\n",
        "            # use input directly at least in one channel\n",
        "            g_c= Lambda(lambda x: K.expand_dims(x[:,:,:,i],axis=3), name='ChannelSeparator'+str(i))(node_in)\n",
        "            gauss_pooled = GaussScaler(rank=2,filters=4,kernel_size=(5,5), \n",
        "                                 input_shape=input_shape, \n",
        "                                 padding='same',gain=1.0, name='gausslayer'+str(i))(g_c)\n",
        "\n",
        "            pool_channels.append(gauss_pooled)\n",
        "        node_pool1 = Concatenate(name='merge',axis=-1)(pool_channels)\n",
        "        node_conv=Conv2D(32, kernel_size=(3, 3),activation='relu')(node_pool1)\n",
        "    \n",
        "    else:\n",
        "        #=============================================================================\n",
        "        gs=GaussScaler(rank=2,filters=nGauss,kernel_size=(5,5), \n",
        "                         data_format='channels_last',strides=1,\n",
        "                         padding='same',name='gausslayer', activation='linear',\n",
        "                         input_shape=input_shape)(node_in)\n",
        "        #gs= BatchNormalization()(gs)\n",
        "        node_conv=Conv2D(32, kernel_size=(3, 3),activation='relu')(gs)\n",
        "#=============================================================================\n",
        "else:\n",
        "    node_conv=Conv2D(32, kernel_size=(3, 3),\n",
        "                     activation='relu',input_shape=input_shape)(node_in)\n",
        "  \n",
        "node=Conv2D(32, (3, 3),activation='relu')(node_conv)\n",
        "node=BatchNormalization()(node)\n",
        "\n",
        "node=Conv2D(64, (3, 3),activation='relu',padding='same')(node)\n",
        "node=BatchNormalization()(node)\n",
        "node=MaxPooling2D(pool_size=(2, 2))(node)\n",
        "node=Dropout(0.25)(node)\n",
        "\n",
        "node=Conv2D(96, (3, 3),activation='relu',padding='same')(node)\n",
        "node=BatchNormalization()(node)\n",
        "\n",
        "node=MaxPooling2D(pool_size=(2, 2))(node)\n",
        "node=Dropout(0.25)(node)\n",
        "\n",
        "node=Flatten()(node)\n",
        "node=Dense(512)(node)\n",
        "node=Activation('relu')(node)\n",
        "node=Dropout(0.5)(node)\n",
        "node=Dense(num_classes)(node)\n",
        "pred=Activation('softmax')(node)\n",
        "\n",
        "model = Model(inputs=node_in, outputs=[pred])\n",
        "model.summary()\n",
        "\n"
      ],
      "execution_count": 0,
      "outputs": [
        {
          "output_type": "stream",
          "text": [
            "WARNING: Logging before flag parsing goes to stderr.\n",
            "W0618 08:02:14.558362 139788871563136 deprecation_wrapper.py:119] From /usr/local/lib/python3.6/dist-packages/keras/backend/tensorflow_backend.py:74: The name tf.get_default_graph is deprecated. Please use tf.compat.v1.get_default_graph instead.\n",
            "\n",
            "W0618 08:02:14.561628 139788871563136 deprecation_wrapper.py:119] From /usr/local/lib/python3.6/dist-packages/keras/backend/tensorflow_backend.py:517: The name tf.placeholder is deprecated. Please use tf.compat.v1.placeholder instead.\n",
            "\n"
          ],
          "name": "stderr"
        },
        {
          "output_type": "stream",
          "text": [
            "{'input_shape': (32, 32, 3), 'name': 'gausslayer0'}\n",
            "kernel shape: (5, 5, 1, 4)\n",
            "kernel shape in output: (5, 5, 4, 1)\n",
            "channel axis\n",
            "kernel reshaped : (5, 5, 4, 1)\n",
            "{'input_shape': (32, 32, 3), 'name': 'gausslayer1'}\n",
            "kernel shape: (5, 5, 1, 4)\n",
            "kernel shape in output: (5, 5, 4, 1)\n",
            "channel axis\n",
            "kernel reshaped : (5, 5, 4, 1)\n",
            "{'input_shape': (32, 32, 3), 'name': 'gausslayer2'}\n",
            "kernel shape: (5, 5, 1, 4)\n"
          ],
          "name": "stdout"
        },
        {
          "output_type": "stream",
          "text": [
            "W0618 08:02:14.816340 139788871563136 deprecation_wrapper.py:119] From /usr/local/lib/python3.6/dist-packages/keras/backend/tensorflow_backend.py:4138: The name tf.random_uniform is deprecated. Please use tf.random.uniform instead.\n",
            "\n",
            "W0618 08:02:14.863960 139788871563136 deprecation_wrapper.py:119] From /usr/local/lib/python3.6/dist-packages/keras/backend/tensorflow_backend.py:174: The name tf.get_default_session is deprecated. Please use tf.compat.v1.get_default_session instead.\n",
            "\n",
            "W0618 08:02:14.865415 139788871563136 deprecation_wrapper.py:119] From /usr/local/lib/python3.6/dist-packages/keras/backend/tensorflow_backend.py:181: The name tf.ConfigProto is deprecated. Please use tf.compat.v1.ConfigProto instead.\n",
            "\n"
          ],
          "name": "stderr"
        },
        {
          "output_type": "stream",
          "text": [
            "kernel shape in output: (5, 5, 4, 1)\n",
            "channel axis\n",
            "kernel reshaped : (5, 5, 4, 1)\n"
          ],
          "name": "stdout"
        },
        {
          "output_type": "stream",
          "text": [
            "W0618 08:02:15.485210 139788871563136 deprecation_wrapper.py:119] From /usr/local/lib/python3.6/dist-packages/keras/backend/tensorflow_backend.py:1834: The name tf.nn.fused_batch_norm is deprecated. Please use tf.compat.v1.nn.fused_batch_norm instead.\n",
            "\n",
            "W0618 08:02:15.681276 139788871563136 deprecation_wrapper.py:119] From /usr/local/lib/python3.6/dist-packages/keras/backend/tensorflow_backend.py:3976: The name tf.nn.max_pool is deprecated. Please use tf.nn.max_pool2d instead.\n",
            "\n",
            "W0618 08:02:15.692674 139788871563136 deprecation.py:506] From /usr/local/lib/python3.6/dist-packages/keras/backend/tensorflow_backend.py:3445: calling dropout (from tensorflow.python.ops.nn_ops) with keep_prob is deprecated and will be removed in a future version.\n",
            "Instructions for updating:\n",
            "Please use `rate` instead of `keep_prob`. Rate should be set to `rate = 1 - keep_prob`.\n"
          ],
          "name": "stderr"
        },
        {
          "output_type": "stream",
          "text": [
            "__________________________________________________________________________________________________\n",
            "Layer (type)                    Output Shape         Param #     Connected to                     \n",
            "==================================================================================================\n",
            "input_1 (InputLayer)            (None, 32, 32, 3)    0                                            \n",
            "__________________________________________________________________________________________________\n",
            "ChannelSeparator0 (Lambda)      (None, 32, 32, 1)    0           input_1[0][0]                    \n",
            "__________________________________________________________________________________________________\n",
            "ChannelSeparator1 (Lambda)      (None, 32, 32, 1)    0           input_1[0][0]                    \n",
            "__________________________________________________________________________________________________\n",
            "ChannelSeparator2 (Lambda)      (None, 32, 32, 1)    0           input_1[0][0]                    \n",
            "__________________________________________________________________________________________________\n",
            "gausslayer0 (GaussScaler)       (None, 32, 32, 4)    4           ChannelSeparator0[0][0]          \n",
            "__________________________________________________________________________________________________\n",
            "gausslayer1 (GaussScaler)       (None, 32, 32, 4)    4           ChannelSeparator1[0][0]          \n",
            "__________________________________________________________________________________________________\n",
            "gausslayer2 (GaussScaler)       (None, 32, 32, 4)    4           ChannelSeparator2[0][0]          \n",
            "__________________________________________________________________________________________________\n",
            "merge (Concatenate)             (None, 32, 32, 12)   0           gausslayer0[0][0]                \n",
            "                                                                 gausslayer1[0][0]                \n",
            "                                                                 gausslayer2[0][0]                \n",
            "__________________________________________________________________________________________________\n",
            "conv2d_1 (Conv2D)               (None, 30, 30, 32)   3488        merge[0][0]                      \n",
            "__________________________________________________________________________________________________\n",
            "conv2d_2 (Conv2D)               (None, 28, 28, 32)   9248        conv2d_1[0][0]                   \n",
            "__________________________________________________________________________________________________\n",
            "batch_normalization_1 (BatchNor (None, 28, 28, 32)   128         conv2d_2[0][0]                   \n",
            "__________________________________________________________________________________________________\n",
            "conv2d_3 (Conv2D)               (None, 28, 28, 64)   18496       batch_normalization_1[0][0]      \n",
            "__________________________________________________________________________________________________\n",
            "batch_normalization_2 (BatchNor (None, 28, 28, 64)   256         conv2d_3[0][0]                   \n",
            "__________________________________________________________________________________________________\n",
            "max_pooling2d_1 (MaxPooling2D)  (None, 14, 14, 64)   0           batch_normalization_2[0][0]      \n",
            "__________________________________________________________________________________________________\n",
            "dropout_1 (Dropout)             (None, 14, 14, 64)   0           max_pooling2d_1[0][0]            \n",
            "__________________________________________________________________________________________________\n",
            "conv2d_4 (Conv2D)               (None, 14, 14, 96)   55392       dropout_1[0][0]                  \n",
            "__________________________________________________________________________________________________\n",
            "batch_normalization_3 (BatchNor (None, 14, 14, 96)   384         conv2d_4[0][0]                   \n",
            "__________________________________________________________________________________________________\n",
            "max_pooling2d_2 (MaxPooling2D)  (None, 7, 7, 96)     0           batch_normalization_3[0][0]      \n",
            "__________________________________________________________________________________________________\n",
            "dropout_2 (Dropout)             (None, 7, 7, 96)     0           max_pooling2d_2[0][0]            \n",
            "__________________________________________________________________________________________________\n",
            "flatten_1 (Flatten)             (None, 4704)         0           dropout_2[0][0]                  \n",
            "__________________________________________________________________________________________________\n",
            "dense_1 (Dense)                 (None, 512)          2408960     flatten_1[0][0]                  \n",
            "__________________________________________________________________________________________________\n",
            "activation_1 (Activation)       (None, 512)          0           dense_1[0][0]                    \n",
            "__________________________________________________________________________________________________\n",
            "dropout_3 (Dropout)             (None, 512)          0           activation_1[0][0]               \n",
            "__________________________________________________________________________________________________\n",
            "dense_2 (Dense)                 (None, 10)           5130        dropout_3[0][0]                  \n",
            "__________________________________________________________________________________________________\n",
            "activation_2 (Activation)       (None, 10)           0           dense_2[0][0]                    \n",
            "==================================================================================================\n",
            "Total params: 2,501,494\n",
            "Trainable params: 2,501,110\n",
            "Non-trainable params: 384\n",
            "__________________________________________________________________________________________________\n"
          ],
          "name": "stdout"
        }
      ]
    },
    {
      "cell_type": "code",
      "metadata": {
        "id": "-nZVKELWLgyT",
        "colab_type": "code",
        "outputId": "c37e8ff8-08e5-4834-d04c-b4e81eaf0ff4",
        "colab": {
          "base_uri": "https://localhost:8080/",
          "height": 381
        }
      },
      "source": [
        "plt = True and nGauss>0\n",
        "if plt:\n",
        "    print(\"Plotting kernels before...\")\n",
        "    import matplotlib.pyplot as plt\n",
        "    gauss_layer = model.get_layer('gausslayer0')\n",
        "    ws = gauss_layer.get_weights()\n",
        "    print(\"Sigmas before\",ws[0])\n",
        "    u_func = K.function(inputs=[model.input], outputs=[gauss_layer.U()])\n",
        "    output_func = K.function(inputs=[model.input], outputs=[gauss_layer.output])\n",
        "\n",
        "    U_val=u_func([np.expand_dims(x_test[0], axis=0)])\n",
        "    \n",
        "    print(\"U shape\", U_val[0].shape)\n",
        "    print(\"U max:\", np.max(U_val[0][:,:,:,:]))\n",
        "    num_filt=min(U_val[0].shape[2],12)\n",
        "    fig=plt.figure(figsize=(10,5))\n",
        "    for i in range(num_filt):\n",
        "        ax1=plt.subplot(1, num_filt, i+1)\n",
        "        im = ax1.imshow(np.squeeze(U_val[0][:,:,i,0]))\n",
        "    fig.colorbar(im, ax=ax1)\n",
        "    plt.show()"
      ],
      "execution_count": 0,
      "outputs": [
        {
          "output_type": "stream",
          "text": [
            "Plotting kernels before...\n",
            "Sigmas before [0.05       0.06666667 0.08333334 0.1       ]\n",
            "U shape (5, 5, 4, 1)\n",
            "U max: 1.0\n"
          ],
          "name": "stdout"
        },
        {
          "output_type": "display_data",
          "data": {
            "image/png": "[encoded data removed]",
            "text/plain": [
              "<Figure size 720x360 with 5 Axes>"
            ]
          },
          "metadata": {
            "tags": []
          }
        }
      ]
    },
    {
      "cell_type": "code",
      "metadata": {
        "id": "3yoSOWkmqSUf",
        "colab_type": "code",
        "outputId": "fed196ac-c822-4ad9-d7dc-03338ea6c495",
        "colab": {
          "base_uri": "https://localhost:8080/",
          "height": 1585
        }
      },
      "source": [
        "\n",
        "from lr_multiplier import LearningRateMultiplier\n",
        "\n",
        "multipliers = {'gausslayer': 1.0} # no batch normalization is 0.1, batch norm requires larger learning rate???\n",
        "opt = LearningRateMultiplier(SGD, lr_multipliers=multipliers, \n",
        "                             lr=0.01, momentum=0.9,decay=0.000005000)\n",
        "# Higher decays hurt the process\n",
        "print(opt)\n",
        "#opt = SGD(lr=0.01,momentum=0.5)\n",
        "model.compile(loss=keras.losses.categorical_crossentropy,\n",
        "              optimizer=opt,\n",
        "              metrics=['accuracy'])\n",
        "\n",
        "model.summary()\n",
        "\n",
        "batch_size = 128\n",
        "\n",
        "epochs = 100\n",
        "\n",
        "steps_per_epoch = 60000/batch_size\n",
        "\n",
        "\n",
        "if not data_augmentation:\n",
        "    print('Not using data augmentation.')\n",
        "    model.fit(x_train, y_train,\n",
        "              batch_size=batch_size,\n",
        "              epochs=epochs,\n",
        "              validation_data=(x_test, y_test),\n",
        "              shuffle=True)\n",
        "else:\n",
        "    print('Using real-time data augmentation.')\n",
        "    # This will do preprocessing and realtime data augmentation:\n",
        "    datagen = ImageDataGenerator(\n",
        "        featurewise_center=False,  # set input mean to 0 over the dataset\n",
        "        samplewise_center=False,  # set each sample mean to 0\n",
        "        featurewise_std_normalization=False,  # divide inputs by std of the dataset\n",
        "        samplewise_std_normalization=False,  # divide each input by its std\n",
        "        zca_whitening=False,  # apply ZCA whitening\n",
        "        zca_epsilon=1e-06,  # epsilon for ZCA whitening\n",
        "        rotation_range=0,  # randomly rotate images in the range (degrees, 0 to 180)\n",
        "        # randomly shift images horizontally (fraction of total width)\n",
        "        width_shift_range=0.1,\n",
        "        # randomly shift images vertically (fraction of total height)\n",
        "        height_shift_range=0.1,\n",
        "        shear_range=0.,  # set range for random shear\n",
        "        zoom_range=0.,  # set range for random zoom\n",
        "        channel_shift_range=0.,  # set range for random channel shifts\n",
        "        # set mode for filling points outside the input boundaries\n",
        "        fill_mode='nearest',\n",
        "        cval=0.,  # value used for fill_mode = \"constant\"\n",
        "        horizontal_flip=True,  # randomly flip images\n",
        "        vertical_flip=False,  # randomly flip images\n",
        "        # set rescaling factor (applied before any other transformation)\n",
        "        rescale=None,\n",
        "        # set function that will be applied on each input\n",
        "        preprocessing_function=None,\n",
        "        # image data format, either \"channels_first\" or \"channels_last\"\n",
        "        data_format=None,\n",
        "        # fraction of images reserved for validation (strictly between 0 and 1)\n",
        "        validation_split=0.0)\n",
        "\n",
        "    # Compute quantities required for feature-wise normalization\n",
        "    # (std, mean, and principal components if ZCA whitening is applied).\n",
        "    datagen.fit(x_train)\n",
        "\n",
        "    # Fit the model on the batches generated by datagen.flow().\n",
        "    model.fit_generator(datagen.flow(x_train, y_train,\n",
        "                                     batch_size=batch_size),\n",
        "                        steps_per_epoch=steps_per_epoch,\n",
        "                        epochs=epochs,\n",
        "                        validation_data=(x_test, y_test),\n",
        "                        workers=4)"
      ],
      "execution_count": 10,
      "outputs": [
        {
          "output_type": "stream",
          "text": [
            "W0618 08:02:17.011099 139788871563136 deprecation_wrapper.py:119] From /usr/local/lib/python3.6/dist-packages/keras/optimizers.py:790: The name tf.train.Optimizer is deprecated. Please use tf.compat.v1.train.Optimizer instead.\n",
            "\n"
          ],
          "name": "stderr"
        },
        {
          "output_type": "stream",
          "text": [
            "<lr_multiplier.LearningRateMultiplier object at 0x7f22d885dac8>\n",
            "__________________________________________________________________________________________________\n",
            "Layer (type)                    Output Shape         Param #     Connected to                     \n",
            "==================================================================================================\n",
            "input_1 (InputLayer)            (None, 32, 32, 3)    0                                            \n",
            "__________________________________________________________________________________________________\n",
            "ChannelSeparator0 (Lambda)      (None, 32, 32, 1)    0           input_1[0][0]                    \n",
            "__________________________________________________________________________________________________\n",
            "ChannelSeparator1 (Lambda)      (None, 32, 32, 1)    0           input_1[0][0]                    \n",
            "__________________________________________________________________________________________________\n",
            "ChannelSeparator2 (Lambda)      (None, 32, 32, 1)    0           input_1[0][0]                    \n",
            "__________________________________________________________________________________________________\n",
            "gausslayer0 (GaussScaler)       (None, 32, 32, 4)    4           ChannelSeparator0[0][0]          \n",
            "__________________________________________________________________________________________________\n",
            "gausslayer1 (GaussScaler)       (None, 32, 32, 4)    4           ChannelSeparator1[0][0]          \n",
            "__________________________________________________________________________________________________\n",
            "gausslayer2 (GaussScaler)       (None, 32, 32, 4)    4           ChannelSeparator2[0][0]          \n",
            "__________________________________________________________________________________________________\n",
            "merge (Concatenate)             (None, 32, 32, 12)   0           gausslayer0[0][0]                \n",
            "                                                                 gausslayer1[0][0]                \n",
            "                                                                 gausslayer2[0][0]                \n",
            "__________________________________________________________________________________________________\n",
            "conv2d_1 (Conv2D)               (None, 30, 30, 32)   3488        merge[0][0]                      \n",
            "__________________________________________________________________________________________________\n",
            "conv2d_2 (Conv2D)               (None, 28, 28, 32)   9248        conv2d_1[0][0]                   \n",
            "__________________________________________________________________________________________________\n",
            "batch_normalization_1 (BatchNor (None, 28, 28, 32)   128         conv2d_2[0][0]                   \n",
            "__________________________________________________________________________________________________\n",
            "conv2d_3 (Conv2D)               (None, 28, 28, 64)   18496       batch_normalization_1[0][0]      \n",
            "__________________________________________________________________________________________________\n",
            "batch_normalization_2 (BatchNor (None, 28, 28, 64)   256         conv2d_3[0][0]                   \n",
            "__________________________________________________________________________________________________\n",
            "max_pooling2d_1 (MaxPooling2D)  (None, 14, 14, 64)   0           batch_normalization_2[0][0]      \n",
            "__________________________________________________________________________________________________\n",
            "dropout_1 (Dropout)             (None, 14, 14, 64)   0           max_pooling2d_1[0][0]            \n",
            "__________________________________________________________________________________________________\n",
            "conv2d_4 (Conv2D)               (None, 14, 14, 96)   55392       dropout_1[0][0]                  \n",
            "__________________________________________________________________________________________________\n",
            "batch_normalization_3 (BatchNor (None, 14, 14, 96)   384         conv2d_4[0][0]                   \n",
            "__________________________________________________________________________________________________\n",
            "max_pooling2d_2 (MaxPooling2D)  (None, 7, 7, 96)     0           batch_normalization_3[0][0]      \n",
            "__________________________________________________________________________________________________\n",
            "dropout_2 (Dropout)             (None, 7, 7, 96)     0           max_pooling2d_2[0][0]            \n",
            "__________________________________________________________________________________________________\n",
            "flatten_1 (Flatten)             (None, 4704)         0           dropout_2[0][0]                  \n",
            "__________________________________________________________________________________________________\n",
            "dense_1 (Dense)                 (None, 512)          2408960     flatten_1[0][0]                  \n",
            "__________________________________________________________________________________________________\n",
            "activation_1 (Activation)       (None, 512)          0           dense_1[0][0]                    \n",
            "__________________________________________________________________________________________________\n",
            "dropout_3 (Dropout)             (None, 512)          0           activation_1[0][0]               \n",
            "__________________________________________________________________________________________________\n",
            "dense_2 (Dense)                 (None, 10)           5130        dropout_3[0][0]                  \n",
            "__________________________________________________________________________________________________\n",
            "activation_2 (Activation)       (None, 10)           0           dense_2[0][0]                    \n",
            "==================================================================================================\n",
            "Total params: 2,501,494\n",
            "Trainable params: 2,501,110\n",
            "Non-trainable params: 384\n",
            "__________________________________________________________________________________________________\n",
            "Using real-time data augmentation.\n"
          ],
          "name": "stdout"
        },
        {
          "output_type": "stream",
          "text": [
            "W0618 08:02:17.616471 139788871563136 deprecation.py:323] From /usr/local/lib/python3.6/dist-packages/tensorflow/python/ops/math_grad.py:1250: add_dispatch_support.<locals>.wrapper (from tensorflow.python.ops.array_ops) is deprecated and will be removed in a future version.\n",
            "Instructions for updating:\n",
            "Use tf.where in 2.0, which has the same broadcast rule as np.where\n"
          ],
          "name": "stderr"
        },
        {
          "output_type": "stream",
          "text": [
            "Epoch 1/100\n",
            "469/468 [==============================] - 53s 112ms/step - loss: 1.8124 - acc: 0.3548 - val_loss: 1.7315 - val_acc: 0.4131\n",
            "Epoch 2/100\n",
            " 68/468 [===>..........................] - ETA: 36s - loss: 1.5729 - acc: 0.4323"
          ],
          "name": "stdout"
        },
        {
          "output_type": "error",
          "ename": "KeyboardInterrupt",
          "evalue": "ignored",
          "traceback": [
            "\u001b[0;31m---------------------------------------------------------------------------\u001b[0m",
            "\u001b[0;31mKeyboardInterrupt\u001b[0m                         Traceback (most recent call last)",
            "\u001b[0;32m<ipython-input-10-3762b6146be9>\u001b[0m in \u001b[0;36m<module>\u001b[0;34m()\u001b[0m\n\u001b[1;32m     70\u001b[0m                         \u001b[0mepochs\u001b[0m\u001b[0;34m=\u001b[0m\u001b[0mepochs\u001b[0m\u001b[0;34m,\u001b[0m\u001b[0;34m\u001b[0m\u001b[0;34m\u001b[0m\u001b[0m\n\u001b[1;32m     71\u001b[0m                         \u001b[0mvalidation_data\u001b[0m\u001b[0;34m=\u001b[0m\u001b[0;34m(\u001b[0m\u001b[0mx_test\u001b[0m\u001b[0;34m,\u001b[0m \u001b[0my_test\u001b[0m\u001b[0;34m)\u001b[0m\u001b[0;34m,\u001b[0m\u001b[0;34m\u001b[0m\u001b[0;34m\u001b[0m\u001b[0m\n\u001b[0;32m---> 72\u001b[0;31m                         workers=4)\n\u001b[0m",
            "\u001b[0;32m/usr/local/lib/python3.6/dist-packages/keras/legacy/interfaces.py\u001b[0m in \u001b[0;36mwrapper\u001b[0;34m(*args, **kwargs)\u001b[0m\n\u001b[1;32m     89\u001b[0m                 warnings.warn('Update your `' + object_name + '` call to the ' +\n\u001b[1;32m     90\u001b[0m                               'Keras 2 API: ' + signature, stacklevel=2)\n\u001b[0;32m---> 91\u001b[0;31m             \u001b[0;32mreturn\u001b[0m \u001b[0mfunc\u001b[0m\u001b[0;34m(\u001b[0m\u001b[0;34m*\u001b[0m\u001b[0margs\u001b[0m\u001b[0;34m,\u001b[0m \u001b[0;34m**\u001b[0m\u001b[0mkwargs\u001b[0m\u001b[0;34m)\u001b[0m\u001b[0;34m\u001b[0m\u001b[0;34m\u001b[0m\u001b[0m\n\u001b[0m\u001b[1;32m     92\u001b[0m         \u001b[0mwrapper\u001b[0m\u001b[0;34m.\u001b[0m\u001b[0m_original_function\u001b[0m \u001b[0;34m=\u001b[0m \u001b[0mfunc\u001b[0m\u001b[0;34m\u001b[0m\u001b[0;34m\u001b[0m\u001b[0m\n\u001b[1;32m     93\u001b[0m         \u001b[0;32mreturn\u001b[0m \u001b[0mwrapper\u001b[0m\u001b[0;34m\u001b[0m\u001b[0;34m\u001b[0m\u001b[0m\n",
            "\u001b[0;32m/usr/local/lib/python3.6/dist-packages/keras/engine/training.py\u001b[0m in \u001b[0;36mfit_generator\u001b[0;34m(self, generator, steps_per_epoch, epochs, verbose, callbacks, validation_data, validation_steps, class_weight, max_queue_size, workers, use_multiprocessing, shuffle, initial_epoch)\u001b[0m\n\u001b[1;32m   1416\u001b[0m             \u001b[0muse_multiprocessing\u001b[0m\u001b[0;34m=\u001b[0m\u001b[0muse_multiprocessing\u001b[0m\u001b[0;34m,\u001b[0m\u001b[0;34m\u001b[0m\u001b[0;34m\u001b[0m\u001b[0m\n\u001b[1;32m   1417\u001b[0m             \u001b[0mshuffle\u001b[0m\u001b[0;34m=\u001b[0m\u001b[0mshuffle\u001b[0m\u001b[0;34m,\u001b[0m\u001b[0;34m\u001b[0m\u001b[0;34m\u001b[0m\u001b[0m\n\u001b[0;32m-> 1418\u001b[0;31m             initial_epoch=initial_epoch)\n\u001b[0m\u001b[1;32m   1419\u001b[0m \u001b[0;34m\u001b[0m\u001b[0m\n\u001b[1;32m   1420\u001b[0m     \u001b[0;34m@\u001b[0m\u001b[0minterfaces\u001b[0m\u001b[0;34m.\u001b[0m\u001b[0mlegacy_generator_methods_support\u001b[0m\u001b[0;34m\u001b[0m\u001b[0;34m\u001b[0m\u001b[0m\n",
            "\u001b[0;32m/usr/local/lib/python3.6/dist-packages/keras/engine/training_generator.py\u001b[0m in \u001b[0;36mfit_generator\u001b[0;34m(model, generator, steps_per_epoch, epochs, verbose, callbacks, validation_data, validation_steps, class_weight, max_queue_size, workers, use_multiprocessing, shuffle, initial_epoch)\u001b[0m\n\u001b[1;32m    215\u001b[0m                 outs = model.train_on_batch(x, y,\n\u001b[1;32m    216\u001b[0m                                             \u001b[0msample_weight\u001b[0m\u001b[0;34m=\u001b[0m\u001b[0msample_weight\u001b[0m\u001b[0;34m,\u001b[0m\u001b[0;34m\u001b[0m\u001b[0;34m\u001b[0m\u001b[0m\n\u001b[0;32m--> 217\u001b[0;31m                                             class_weight=class_weight)\n\u001b[0m\u001b[1;32m    218\u001b[0m \u001b[0;34m\u001b[0m\u001b[0m\n\u001b[1;32m    219\u001b[0m                 \u001b[0mouts\u001b[0m \u001b[0;34m=\u001b[0m \u001b[0mto_list\u001b[0m\u001b[0;34m(\u001b[0m\u001b[0mouts\u001b[0m\u001b[0;34m)\u001b[0m\u001b[0;34m\u001b[0m\u001b[0;34m\u001b[0m\u001b[0m\n",
            "\u001b[0;32m/usr/local/lib/python3.6/dist-packages/keras/engine/training.py\u001b[0m in \u001b[0;36mtrain_on_batch\u001b[0;34m(self, x, y, sample_weight, class_weight)\u001b[0m\n\u001b[1;32m   1215\u001b[0m             \u001b[0mins\u001b[0m \u001b[0;34m=\u001b[0m \u001b[0mx\u001b[0m \u001b[0;34m+\u001b[0m \u001b[0my\u001b[0m \u001b[0;34m+\u001b[0m \u001b[0msample_weights\u001b[0m\u001b[0;34m\u001b[0m\u001b[0;34m\u001b[0m\u001b[0m\n\u001b[1;32m   1216\u001b[0m         \u001b[0mself\u001b[0m\u001b[0;34m.\u001b[0m\u001b[0m_make_train_function\u001b[0m\u001b[0;34m(\u001b[0m\u001b[0;34m)\u001b[0m\u001b[0;34m\u001b[0m\u001b[0;34m\u001b[0m\u001b[0m\n\u001b[0;32m-> 1217\u001b[0;31m         \u001b[0moutputs\u001b[0m \u001b[0;34m=\u001b[0m \u001b[0mself\u001b[0m\u001b[0;34m.\u001b[0m\u001b[0mtrain_function\u001b[0m\u001b[0;34m(\u001b[0m\u001b[0mins\u001b[0m\u001b[0;34m)\u001b[0m\u001b[0;34m\u001b[0m\u001b[0;34m\u001b[0m\u001b[0m\n\u001b[0m\u001b[1;32m   1218\u001b[0m         \u001b[0;32mreturn\u001b[0m \u001b[0munpack_singleton\u001b[0m\u001b[0;34m(\u001b[0m\u001b[0moutputs\u001b[0m\u001b[0;34m)\u001b[0m\u001b[0;34m\u001b[0m\u001b[0;34m\u001b[0m\u001b[0m\n\u001b[1;32m   1219\u001b[0m \u001b[0;34m\u001b[0m\u001b[0m\n",
            "\u001b[0;32m/usr/local/lib/python3.6/dist-packages/keras/backend/tensorflow_backend.py\u001b[0m in \u001b[0;36m__call__\u001b[0;34m(self, inputs)\u001b[0m\n\u001b[1;32m   2713\u001b[0m                 \u001b[0;32mreturn\u001b[0m \u001b[0mself\u001b[0m\u001b[0;34m.\u001b[0m\u001b[0m_legacy_call\u001b[0m\u001b[0;34m(\u001b[0m\u001b[0minputs\u001b[0m\u001b[0;34m)\u001b[0m\u001b[0;34m\u001b[0m\u001b[0;34m\u001b[0m\u001b[0m\n\u001b[1;32m   2714\u001b[0m \u001b[0;34m\u001b[0m\u001b[0m\n\u001b[0;32m-> 2715\u001b[0;31m             \u001b[0;32mreturn\u001b[0m \u001b[0mself\u001b[0m\u001b[0;34m.\u001b[0m\u001b[0m_call\u001b[0m\u001b[0;34m(\u001b[0m\u001b[0minputs\u001b[0m\u001b[0;34m)\u001b[0m\u001b[0;34m\u001b[0m\u001b[0;34m\u001b[0m\u001b[0m\n\u001b[0m\u001b[1;32m   2716\u001b[0m         \u001b[0;32melse\u001b[0m\u001b[0;34m:\u001b[0m\u001b[0;34m\u001b[0m\u001b[0;34m\u001b[0m\u001b[0m\n\u001b[1;32m   2717\u001b[0m             \u001b[0;32mif\u001b[0m \u001b[0mpy_any\u001b[0m\u001b[0;34m(\u001b[0m\u001b[0mis_tensor\u001b[0m\u001b[0;34m(\u001b[0m\u001b[0mx\u001b[0m\u001b[0;34m)\u001b[0m \u001b[0;32mfor\u001b[0m \u001b[0mx\u001b[0m \u001b[0;32min\u001b[0m \u001b[0minputs\u001b[0m\u001b[0;34m)\u001b[0m\u001b[0;34m:\u001b[0m\u001b[0;34m\u001b[0m\u001b[0;34m\u001b[0m\u001b[0m\n",
            "\u001b[0;32m/usr/local/lib/python3.6/dist-packages/keras/backend/tensorflow_backend.py\u001b[0m in \u001b[0;36m_call\u001b[0;34m(self, inputs)\u001b[0m\n\u001b[1;32m   2673\u001b[0m             \u001b[0mfetched\u001b[0m \u001b[0;34m=\u001b[0m \u001b[0mself\u001b[0m\u001b[0;34m.\u001b[0m\u001b[0m_callable_fn\u001b[0m\u001b[0;34m(\u001b[0m\u001b[0;34m*\u001b[0m\u001b[0marray_vals\u001b[0m\u001b[0;34m,\u001b[0m \u001b[0mrun_metadata\u001b[0m\u001b[0;34m=\u001b[0m\u001b[0mself\u001b[0m\u001b[0;34m.\u001b[0m\u001b[0mrun_metadata\u001b[0m\u001b[0;34m)\u001b[0m\u001b[0;34m\u001b[0m\u001b[0;34m\u001b[0m\u001b[0m\n\u001b[1;32m   2674\u001b[0m         \u001b[0;32melse\u001b[0m\u001b[0;34m:\u001b[0m\u001b[0;34m\u001b[0m\u001b[0;34m\u001b[0m\u001b[0m\n\u001b[0;32m-> 2675\u001b[0;31m             \u001b[0mfetched\u001b[0m \u001b[0;34m=\u001b[0m \u001b[0mself\u001b[0m\u001b[0;34m.\u001b[0m\u001b[0m_callable_fn\u001b[0m\u001b[0;34m(\u001b[0m\u001b[0;34m*\u001b[0m\u001b[0marray_vals\u001b[0m\u001b[0;34m)\u001b[0m\u001b[0;34m\u001b[0m\u001b[0;34m\u001b[0m\u001b[0m\n\u001b[0m\u001b[1;32m   2676\u001b[0m         \u001b[0;32mreturn\u001b[0m \u001b[0mfetched\u001b[0m\u001b[0;34m[\u001b[0m\u001b[0;34m:\u001b[0m\u001b[0mlen\u001b[0m\u001b[0;34m(\u001b[0m\u001b[0mself\u001b[0m\u001b[0;34m.\u001b[0m\u001b[0moutputs\u001b[0m\u001b[0;34m)\u001b[0m\u001b[0;34m]\u001b[0m\u001b[0;34m\u001b[0m\u001b[0;34m\u001b[0m\u001b[0m\n\u001b[1;32m   2677\u001b[0m \u001b[0;34m\u001b[0m\u001b[0m\n",
            "\u001b[0;32m/usr/local/lib/python3.6/dist-packages/tensorflow/python/client/session.py\u001b[0m in \u001b[0;36m__call__\u001b[0;34m(self, *args, **kwargs)\u001b[0m\n\u001b[1;32m   1456\u001b[0m         ret = tf_session.TF_SessionRunCallable(self._session._session,\n\u001b[1;32m   1457\u001b[0m                                                \u001b[0mself\u001b[0m\u001b[0;34m.\u001b[0m\u001b[0m_handle\u001b[0m\u001b[0;34m,\u001b[0m \u001b[0margs\u001b[0m\u001b[0;34m,\u001b[0m\u001b[0;34m\u001b[0m\u001b[0;34m\u001b[0m\u001b[0m\n\u001b[0;32m-> 1458\u001b[0;31m                                                run_metadata_ptr)\n\u001b[0m\u001b[1;32m   1459\u001b[0m         \u001b[0;32mif\u001b[0m \u001b[0mrun_metadata\u001b[0m\u001b[0;34m:\u001b[0m\u001b[0;34m\u001b[0m\u001b[0;34m\u001b[0m\u001b[0m\n\u001b[1;32m   1460\u001b[0m           \u001b[0mproto_data\u001b[0m \u001b[0;34m=\u001b[0m \u001b[0mtf_session\u001b[0m\u001b[0;34m.\u001b[0m\u001b[0mTF_GetBuffer\u001b[0m\u001b[0;34m(\u001b[0m\u001b[0mrun_metadata_ptr\u001b[0m\u001b[0;34m)\u001b[0m\u001b[0;34m\u001b[0m\u001b[0;34m\u001b[0m\u001b[0m\n",
            "\u001b[0;31mKeyboardInterrupt\u001b[0m: "
          ]
        }
      ]
    },
    {
      "cell_type": "code",
      "metadata": {
        "id": "5wDoXk8trXkC",
        "colab_type": "code",
        "colab": {}
      },
      "source": [
        "# Save model and weights\n",
        "if not os.path.isdir(save_dir):\n",
        "    os.makedirs(save_dir)\n",
        "model_path = os.path.join(save_dir, model_name)\n",
        "model.save(model_path)\n",
        "print('Saved trained model at %s ' % model_path)\n",
        "\n",
        "# Score trained model.\n",
        "scores = model.evaluate(x_test, y_test, verbose=1)\n",
        "print('Test loss:', scores[0])\n",
        "print('Test accuracy:', scores[1])"
      ],
      "execution_count": 0,
      "outputs": []
    },
    {
      "cell_type": "markdown",
      "metadata": {
        "id": "gyxCWeylLhff",
        "colab_type": "text"
      },
      "source": [
        "PLOT THE FILTERS"
      ]
    },
    {
      "cell_type": "code",
      "metadata": {
        "id": "ztpCKIbUS1JR",
        "colab_type": "code",
        "colab": {}
      },
      "source": [
        ""
      ],
      "execution_count": 0,
      "outputs": []
    },
    {
      "cell_type": "code",
      "metadata": {
        "id": "VF4aI5BOLsqI",
        "colab_type": "code",
        "colab": {
          "base_uri": "https://localhost:8080/",
          "height": 624
        },
        "outputId": "32d4b995-942d-4c75-e13b-c5515731dbd5"
      },
      "source": [
        "if plt:\n",
        "    print(\"Plotting kernels after ...\")\n",
        "    \n",
        "    print(\"U max:\", np.max(U_val[0][:,:,:,:]))\n",
        "    import matplotlib.pyplot as plt\n",
        "    ws = gauss_layer.get_weights()\n",
        "    print(\"Sigmas after\",ws[0])\n",
        "    U_val=u_func([np.expand_dims(x_test[2], axis=0)])\n",
        "    \n",
        "    print(\"U shape\", U_val[0].shape)\n",
        "    num_filt=min(U_val[0].shape[2],12)\n",
        "    fig=plt.figure(figsize=(16,5))\n",
        "    for i in range(num_filt):\n",
        "        ax=plt.subplot(1, num_filt, i+1)\n",
        "        im = ax.imshow(np.squeeze(U_val[0][:,:,i,0]))\n",
        "    #fig.colorbar(im, ax=ax1)\n",
        "    plt.show()\n",
        "    \n",
        "    \n",
        "    print(\"outputs  ...\")\n",
        "    \n",
        "    n=5\n",
        "    \n",
        "    out_val=output_func([np.expand_dims(x_test[5], axis=0)])\n",
        "    print(\"Outputs shape\", out_val[0].shape)\n",
        "    num_filt=min(out_val[0].shape[3],12)\n",
        "    fig=plt.figure(figsize=(16,10))\n",
        "    ax=plt.subplot(1, num_filt+1, 1)\n",
        "    im = ax.imshow(np.squeeze(x_test[5]))\n",
        "    print(\"input mean,var,max\",np.mean(x_test[5]),np.var(x_test[5]),np.max(x_test[5]))\n",
        "    for i in range(num_filt):\n",
        "        ax=plt.subplot(1, num_filt+1, i+2)\n",
        "        out_im = out_val[0][0,:,:,i]\n",
        "        im = ax.imshow(np.squeeze(out_im))\n",
        "        print(\"ouput mean,var,max\",np.mean(out_im),\n",
        "                                       np.var(out_im),\n",
        "                                       np.max(out_im))\n",
        "        #plt.colorbar(im,ax=ax)\n",
        "    plt.show()\n",
        "    \n",
        "    \n",
        "    "
      ],
      "execution_count": 11,
      "outputs": [
        {
          "output_type": "stream",
          "text": [
            "Plotting kernels after ...\n",
            "U max: 1.0\n",
            "Sigmas after [0.04945168 0.05052903 0.17554562 0.04526363]\n",
            "U shape (5, 5, 4, 1)\n"
          ],
          "name": "stdout"
        },
        {
          "output_type": "display_data",
          "data": {
            "image/png": "[encoded data removed]",
            "text/plain": [
              "<Figure size 1152x360 with 4 Axes>"
            ]
          },
          "metadata": {
            "tags": []
          }
        },
        {
          "output_type": "stream",
          "text": [
            "outputs  ...\n",
            "Outputs shape (1, 32, 32, 4)\n",
            "input mean,var,max 0.38357207 0.031253185 0.827451\n",
            "ouput mean,var,max 0.53026396 0.027984126 0.8274598\n",
            "ouput mean,var,max 0.5302681 0.027984517 0.8274661\n",
            "ouput mean,var,max 1.2645123 0.1457591 1.9321104\n",
            "ouput mean,var,max 0.53025866 0.027983626 0.8274517\n"
          ],
          "name": "stdout"
        },
        {
          "output_type": "display_data",
          "data": {
            "image/png": "[encoded data removed]",
            "text/plain": [
              "<Figure size 1152x720 with 5 Axes>"
            ]
          },
          "metadata": {
            "tags": []
          }
        }
      ]
    },
    {
      "cell_type": "markdown",
      "metadata": {
        "id": "aTuRWucxLT-q",
        "colab_type": "text"
      },
      "source": [
        ""
      ]
    }
  ]
}